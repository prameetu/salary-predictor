{
 "cells": [
  {
   "cell_type": "code",
   "execution_count": 1,
   "id": "8403400a",
   "metadata": {
    "scrolled": false
   },
   "outputs": [
    {
     "name": "stderr",
     "output_type": "stream",
     "text": [
      "C:\\anaconda3\\envs\\my_env\\lib\\site-packages\\numpy\\_distributor_init.py:30: UserWarning: loaded more than 1 DLL from .libs:\n",
      "C:\\anaconda3\\envs\\my_env\\lib\\site-packages\\numpy\\.libs\\libopenblas.PYQHXLVVQ7VESDPUVUADXEVJOBGHJPAY.gfortran-win_amd64.dll\n",
      "C:\\anaconda3\\envs\\my_env\\lib\\site-packages\\numpy\\.libs\\libopenblas.WCDJNK7YVMPZQ2ME2ZZHJJRJ3JIKNDB7.gfortran-win_amd64.dll\n",
      "  warnings.warn(\"loaded more than 1 DLL from .libs:\"\n"
     ]
    }
   ],
   "source": [
    "import numpy as np\n",
    "import pandas as pd\n",
    "import matplotlib.pyplot as plt"
   ]
  },
  {
   "cell_type": "code",
   "execution_count": 20,
   "id": "2d16fbf1",
   "metadata": {
    "scrolled": true
   },
   "outputs": [],
   "source": [
    "df = pd.read_csv('survey_results_public.csv')"
   ]
  },
  {
   "cell_type": "code",
   "execution_count": 21,
   "id": "3cab042e",
   "metadata": {},
   "outputs": [],
   "source": [
    "df = df[['Country','EdLevel','YearsCodePro','Employment','ConvertedComp']]"
   ]
  },
  {
   "cell_type": "code",
   "execution_count": 22,
   "id": "1181abea",
   "metadata": {},
   "outputs": [],
   "source": [
    "df = df.rename({'ConvertedComp':'Salary'},axis=1)"
   ]
  },
  {
   "cell_type": "code",
   "execution_count": 26,
   "id": "b53614cb",
   "metadata": {},
   "outputs": [],
   "source": [
    "df = df[df['Salary'].notnull()]"
   ]
  },
  {
   "cell_type": "code",
   "execution_count": 28,
   "id": "2e91e7d5",
   "metadata": {
    "scrolled": true
   },
   "outputs": [
    {
     "name": "stdout",
     "output_type": "stream",
     "text": [
      "<class 'pandas.core.frame.DataFrame'>\n",
      "Int64Index: 34756 entries, 7 to 64154\n",
      "Data columns (total 5 columns):\n",
      " #   Column        Non-Null Count  Dtype  \n",
      "---  ------        --------------  -----  \n",
      " 0   Country       34756 non-null  object \n",
      " 1   EdLevel       34188 non-null  object \n",
      " 2   YearsCodePro  34621 non-null  object \n",
      " 3   Employment    34717 non-null  object \n",
      " 4   Salary        34756 non-null  float64\n",
      "dtypes: float64(1), object(4)\n",
      "memory usage: 1.6+ MB\n"
     ]
    }
   ],
   "source": [
    "df.info()"
   ]
  },
  {
   "cell_type": "code",
   "execution_count": 29,
   "id": "c31393b3",
   "metadata": {},
   "outputs": [],
   "source": [
    "df = df.dropna()"
   ]
  },
  {
   "cell_type": "code",
   "execution_count": 41,
   "id": "aa7fb495",
   "metadata": {},
   "outputs": [],
   "source": [
    "df = df[df['Employment'] == 'Employed full-time']\n",
    "df = df.drop('Employment',axis=1)"
   ]
  },
  {
   "cell_type": "code",
   "execution_count": 42,
   "id": "6ed3607e",
   "metadata": {},
   "outputs": [
    {
     "name": "stdout",
     "output_type": "stream",
     "text": [
      "<class 'pandas.core.frame.DataFrame'>\n",
      "Int64Index: 30019 entries, 7 to 64154\n",
      "Data columns (total 4 columns):\n",
      " #   Column        Non-Null Count  Dtype  \n",
      "---  ------        --------------  -----  \n",
      " 0   Country       30019 non-null  object \n",
      " 1   EdLevel       30019 non-null  object \n",
      " 2   YearsCodePro  30019 non-null  object \n",
      " 3   Salary        30019 non-null  float64\n",
      "dtypes: float64(1), object(3)\n",
      "memory usage: 1.1+ MB\n"
     ]
    }
   ],
   "source": [
    "df.info()"
   ]
  },
  {
   "cell_type": "code",
   "execution_count": 49,
   "id": "01886d0a",
   "metadata": {
    "scrolled": true
   },
   "outputs": [
    {
     "data": {
      "text/plain": [
       "United States     7569\n",
       "India             2425\n",
       "United Kingdom    2287\n",
       "Germany           1903\n",
       "Canada            1178\n",
       "                  ... \n",
       "Belize               1\n",
       "Namibia              1\n",
       "Swaziland            1\n",
       "San Marino           1\n",
       "Guinea               1\n",
       "Name: Country, Length: 154, dtype: int64"
      ]
     },
     "execution_count": 49,
     "metadata": {},
     "output_type": "execute_result"
    }
   ],
   "source": [
    "(df['Country'].value_counts())"
   ]
  },
  {
   "cell_type": "code",
   "execution_count": 52,
   "id": "c9a2ce05",
   "metadata": {},
   "outputs": [],
   "source": [
    "def clean_data(col,threshold):\n",
    "    countries = {}\n",
    "    for i in range(len(col)):\n",
    "        if col.values[i] >= threshold:\n",
    "            countries[col.index[i]] = col.index[i]\n",
    "        else:\n",
    "            countries[col.index[i]] = 'Other'\n",
    "    return countries"
   ]
  },
  {
   "cell_type": "code",
   "execution_count": 53,
   "id": "844fae4c",
   "metadata": {},
   "outputs": [],
   "source": [
    "country_map = clean_data(df['Country'].value_counts(),400)"
   ]
  },
  {
   "cell_type": "code",
   "execution_count": 54,
   "id": "c78fa38d",
   "metadata": {},
   "outputs": [
    {
     "data": {
      "text/plain": [
       "{'United States': 'United States',\n",
       " 'India': 'India',\n",
       " 'United Kingdom': 'United Kingdom',\n",
       " 'Germany': 'Germany',\n",
       " 'Canada': 'Canada',\n",
       " 'Brazil': 'Brazil',\n",
       " 'France': 'France',\n",
       " 'Spain': 'Spain',\n",
       " 'Australia': 'Australia',\n",
       " 'Netherlands': 'Netherlands',\n",
       " 'Poland': 'Poland',\n",
       " 'Italy': 'Italy',\n",
       " 'Russian Federation': 'Russian Federation',\n",
       " 'Sweden': 'Sweden',\n",
       " 'Turkey': 'Other',\n",
       " 'Israel': 'Other',\n",
       " 'Pakistan': 'Other',\n",
       " 'Switzerland': 'Other',\n",
       " 'Mexico': 'Other',\n",
       " 'Ireland': 'Other',\n",
       " 'Norway': 'Other',\n",
       " 'Ukraine': 'Other',\n",
       " 'Romania': 'Other',\n",
       " 'South Africa': 'Other',\n",
       " 'Czech Republic': 'Other',\n",
       " 'Austria': 'Other',\n",
       " 'Belgium': 'Other',\n",
       " 'Iran': 'Other',\n",
       " 'Portugal': 'Other',\n",
       " 'Denmark': 'Other',\n",
       " 'Finland': 'Other',\n",
       " 'Argentina': 'Other',\n",
       " 'Hungary': 'Other',\n",
       " 'New Zealand': 'Other',\n",
       " 'Greece': 'Other',\n",
       " 'Japan': 'Other',\n",
       " 'Bangladesh': 'Other',\n",
       " 'Bulgaria': 'Other',\n",
       " 'Colombia': 'Other',\n",
       " 'Serbia': 'Other',\n",
       " 'Philippines': 'Other',\n",
       " 'Indonesia': 'Other',\n",
       " 'Nigeria': 'Other',\n",
       " 'Singapore': 'Other',\n",
       " 'Lithuania': 'Other',\n",
       " 'Sri Lanka': 'Other',\n",
       " 'Chile': 'Other',\n",
       " 'China': 'Other',\n",
       " 'Viet Nam': 'Other',\n",
       " 'Croatia': 'Other',\n",
       " 'Malaysia': 'Other',\n",
       " 'Estonia': 'Other',\n",
       " 'Slovenia': 'Other',\n",
       " 'Egypt': 'Other',\n",
       " 'South Korea': 'Other',\n",
       " 'Nepal': 'Other',\n",
       " 'Taiwan': 'Other',\n",
       " 'Belarus': 'Other',\n",
       " 'Slovakia': 'Other',\n",
       " 'Latvia': 'Other',\n",
       " 'Uruguay': 'Other',\n",
       " 'United Arab Emirates': 'Other',\n",
       " 'Kenya': 'Other',\n",
       " 'Peru': 'Other',\n",
       " 'Hong Kong (S.A.R.)': 'Other',\n",
       " 'Thailand': 'Other',\n",
       " 'Dominican Republic': 'Other',\n",
       " 'Bosnia and Herzegovina': 'Other',\n",
       " 'Iceland': 'Other',\n",
       " 'Costa Rica': 'Other',\n",
       " 'Kazakhstan': 'Other',\n",
       " 'Malta': 'Other',\n",
       " 'Cyprus': 'Other',\n",
       " 'Republic of Korea': 'Other',\n",
       " 'Lebanon': 'Other',\n",
       " 'Ghana': 'Other',\n",
       " 'Morocco': 'Other',\n",
       " 'Jordan': 'Other',\n",
       " 'Venezuela, Bolivarian Republic of...': 'Other',\n",
       " 'Tunisia': 'Other',\n",
       " 'Armenia': 'Other',\n",
       " 'Georgia': 'Other',\n",
       " 'Ecuador': 'Other',\n",
       " 'Guatemala': 'Other',\n",
       " 'Uganda': 'Other',\n",
       " 'Luxembourg': 'Other',\n",
       " 'Albania': 'Other',\n",
       " 'Republic of Moldova': 'Other',\n",
       " 'Bolivia': 'Other',\n",
       " 'Nicaragua': 'Other',\n",
       " 'Saudi Arabia': 'Other',\n",
       " 'Azerbaijan': 'Other',\n",
       " 'Afghanistan': 'Other',\n",
       " 'El Salvador': 'Other',\n",
       " 'Paraguay': 'Other',\n",
       " 'Myanmar': 'Other',\n",
       " 'Ethiopia': 'Other',\n",
       " 'Cuba': 'Other',\n",
       " 'Algeria': 'Other',\n",
       " 'Kosovo': 'Other',\n",
       " 'Panama': 'Other',\n",
       " 'The former Yugoslav Republic of Macedonia': 'Other',\n",
       " 'Uzbekistan': 'Other',\n",
       " 'Honduras': 'Other',\n",
       " 'Iraq': 'Other',\n",
       " 'Qatar': 'Other',\n",
       " 'Zimbabwe': 'Other',\n",
       " 'Nomadic': 'Other',\n",
       " 'Kyrgyzstan': 'Other',\n",
       " 'Jamaica': 'Other',\n",
       " 'Cambodia': 'Other',\n",
       " 'Mauritius': 'Other',\n",
       " 'Madagascar': 'Other',\n",
       " 'Sudan': 'Other',\n",
       " 'Montenegro': 'Other',\n",
       " 'Cameroon': 'Other',\n",
       " 'Trinidad and Tobago': 'Other',\n",
       " 'United Republic of Tanzania': 'Other',\n",
       " 'Bhutan': 'Other',\n",
       " 'Bahrain': 'Other',\n",
       " 'Mongolia': 'Other',\n",
       " 'Isle of Man': 'Other',\n",
       " 'Syrian Arab Republic': 'Other',\n",
       " 'Oman': 'Other',\n",
       " 'Kuwait': 'Other',\n",
       " 'Botswana': 'Other',\n",
       " 'Rwanda': 'Other',\n",
       " 'Togo': 'Other',\n",
       " 'Haiti': 'Other',\n",
       " 'Zambia': 'Other',\n",
       " 'Maldives': 'Other',\n",
       " 'Guyana': 'Other',\n",
       " \"Lao People's Democratic Republic\": 'Other',\n",
       " 'Angola': 'Other',\n",
       " \"Côte d'Ivoire\": 'Other',\n",
       " 'Democratic Republic of the Congo': 'Other',\n",
       " 'Somalia': 'Other',\n",
       " 'Mauritania': 'Other',\n",
       " 'Turkmenistan': 'Other',\n",
       " 'Fiji': 'Other',\n",
       " 'Benin': 'Other',\n",
       " 'Monaco': 'Other',\n",
       " 'Saint Vincent and the Grenadines': 'Other',\n",
       " 'Bahamas': 'Other',\n",
       " 'Senegal': 'Other',\n",
       " 'Andorra': 'Other',\n",
       " 'Barbados': 'Other',\n",
       " 'Yemen': 'Other',\n",
       " 'Niger': 'Other',\n",
       " 'Belize': 'Other',\n",
       " 'Namibia': 'Other',\n",
       " 'Swaziland': 'Other',\n",
       " 'San Marino': 'Other',\n",
       " 'Guinea': 'Other'}"
      ]
     },
     "execution_count": 54,
     "metadata": {},
     "output_type": "execute_result"
    }
   ],
   "source": [
    "country_map"
   ]
  },
  {
   "cell_type": "code",
   "execution_count": 55,
   "id": "c5bed49f",
   "metadata": {},
   "outputs": [],
   "source": [
    "df['Country'] = df['Country'].map(country_map)"
   ]
  },
  {
   "cell_type": "code",
   "execution_count": 57,
   "id": "22d3f25c",
   "metadata": {
    "scrolled": true
   },
   "outputs": [
    {
     "data": {
      "text/plain": [
       "Other                 8549\n",
       "United States         7569\n",
       "India                 2425\n",
       "United Kingdom        2287\n",
       "Germany               1903\n",
       "Canada                1178\n",
       "Brazil                 991\n",
       "France                 972\n",
       "Spain                  670\n",
       "Australia              659\n",
       "Netherlands            654\n",
       "Poland                 566\n",
       "Italy                  560\n",
       "Russian Federation     522\n",
       "Sweden                 514\n",
       "Name: Country, dtype: int64"
      ]
     },
     "execution_count": 57,
     "metadata": {},
     "output_type": "execute_result"
    }
   ],
   "source": [
    "df['Country'].value_counts()"
   ]
  },
  {
   "cell_type": "code",
   "execution_count": 63,
   "id": "149b791d",
   "metadata": {},
   "outputs": [],
   "source": [
    "import seaborn as sns"
   ]
  },
  {
   "cell_type": "code",
   "execution_count": 67,
   "id": "3781b0fb",
   "metadata": {},
   "outputs": [
    {
     "data": {
      "text/plain": [
       "<AxesSubplot:xlabel='Country', ylabel='Salary'>"
      ]
     },
     "execution_count": 67,
     "metadata": {},
     "output_type": "execute_result"
    },
    {
     "data": {
      "image/png": "[encoded data removed]",
      "text/plain": [
       "<Figure size 1080x720 with 1 Axes>"
      ]
     },
     "metadata": {
      "needs_background": "light"
     },
     "output_type": "display_data"
    }
   ],
   "source": [
    "fig = plt.figure(figsize = (15,10))\n",
    "sns.boxplot(x = df['Country'], y = df['Salary'])"
   ]
  },
  {
   "cell_type": "code",
   "execution_count": 69,
   "id": "39d01733",
   "metadata": {},
   "outputs": [],
   "source": [
    "df = df[df['Salary'] <= 250000]\n",
    "df = df[df['Salary'] >= 10000]\n",
    "df = df[df['Country'] != 'Other']"
   ]
  },
  {
   "cell_type": "code",
   "execution_count": 70,
   "id": "f7b527c7",
   "metadata": {
    "scrolled": true
   },
   "outputs": [
    {
     "data": {
      "text/plain": [
       "<AxesSubplot:xlabel='Country', ylabel='Salary'>"
      ]
     },
     "execution_count": 70,
     "metadata": {},
     "output_type": "execute_result"
    },
    {
     "data": {
      "image/png": "[encoded data removed]",
      "text/plain": [
       "<Figure size 1080x720 with 1 Axes>"
      ]
     },
     "metadata": {
      "needs_background": "light"
     },
     "output_type": "display_data"
    }
   ],
   "source": [
    "fig = plt.figure(figsize = (15,10))\n",
    "sns.boxplot(x = df['Country'], y = df['Salary'])"
   ]
  },
  {
   "cell_type": "code",
   "execution_count": 71,
   "id": "ed929276",
   "metadata": {
    "scrolled": true
   },
   "outputs": [
    {
     "data": {
      "text/plain": [
       "array(['13', '4', '2', '7', '20', '1', '3', '10', '12', '29', '6', '28',\n",
       "       '8', '23', '15', '25', '9', '11', 'Less than 1 year', '5', '21',\n",
       "       '16', '18', '14', '32', '19', '22', '38', '30', '26', '27', '17',\n",
       "       '24', '34', '35', '33', '36', '40', '39', 'More than 50 years',\n",
       "       '31', '37', '41', '45', '42', '44', '43', '50', '49'], dtype=object)"
      ]
     },
     "execution_count": 71,
     "metadata": {},
     "output_type": "execute_result"
    }
   ],
   "source": [
    "df['YearsCodePro'].unique()"
   ]
  },
  {
   "cell_type": "code",
   "execution_count": 74,
   "id": "6716e976",
   "metadata": {},
   "outputs": [],
   "source": [
    "def clean_experience(col):\n",
    "    if col == 'More than 50 years':\n",
    "        return 50\n",
    "    if col == 'Less than 1 year':\n",
    "        return 0.5\n",
    "    return float(col)"
   ]
  },
  {
   "cell_type": "code",
   "execution_count": 75,
   "id": "26a0515a",
   "metadata": {},
   "outputs": [],
   "source": [
    "df['Experience'] = df['YearsCodePro'].apply(clean_experience)"
   ]
  },
  {
   "cell_type": "code",
   "execution_count": 78,
   "id": "8310399b",
   "metadata": {},
   "outputs": [],
   "source": [
    "df = df.drop('YearsCodePro',axis=1)"
   ]
  },
  {
   "cell_type": "code",
   "execution_count": 81,
   "id": "13f62a31",
   "metadata": {},
   "outputs": [
    {
     "data": {
      "text/plain": [
       "array(['Bachelor’s degree (B.A., B.S., B.Eng., etc.)',\n",
       "       'Master’s degree (M.A., M.S., M.Eng., MBA, etc.)',\n",
       "       'Some college/university study without earning a degree',\n",
       "       'Secondary school (e.g. American high school, German Realschule or Gymnasium, etc.)',\n",
       "       'Associate degree (A.A., A.S., etc.)',\n",
       "       'Professional degree (JD, MD, etc.)',\n",
       "       'Other doctoral degree (Ph.D., Ed.D., etc.)',\n",
       "       'I never completed any formal education',\n",
       "       'Primary/elementary school'], dtype=object)"
      ]
     },
     "execution_count": 81,
     "metadata": {},
     "output_type": "execute_result"
    }
   ],
   "source": [
    "df['EdLevel'].unique()"
   ]
  },
  {
   "cell_type": "code",
   "execution_count": 83,
   "id": "2eba1ca0",
   "metadata": {},
   "outputs": [],
   "source": [
    "def clean_education_level(col):\n",
    "    if \"Bachelor’s degree\" in col:\n",
    "        return 'Bachelor’s degree'\n",
    "    if \"Master’s degree\" in col:\n",
    "        return \"Master’s degree\"\n",
    "    if 'Professional degree' in col or 'Other doctoral' in col:\n",
    "        return 'Post Grad'\n",
    "    return 'Less than a bachelors'"
   ]
  },
  {
   "cell_type": "code",
   "execution_count": 84,
   "id": "24b54cd3",
   "metadata": {},
   "outputs": [],
   "source": [
    "df['Education_Level'] = df['EdLevel'].apply(clean_education_level)"
   ]
  },
  {
   "cell_type": "code",
   "execution_count": 86,
   "id": "8eeeb1e6",
   "metadata": {},
   "outputs": [],
   "source": [
    "df = df.drop('EdLevel',axis=1)"
   ]
  },
  {
   "cell_type": "code",
   "execution_count": 87,
   "id": "8e86f316",
   "metadata": {
    "scrolled": false
   },
   "outputs": [
    {
     "data": {
      "text/plain": [
       "array(['Bachelor’s degree', 'Master’s degree', 'Less than a bachelors',\n",
       "       'Post Grad'], dtype=object)"
      ]
     },
     "execution_count": 87,
     "metadata": {},
     "output_type": "execute_result"
    }
   ],
   "source": [
    "df['Education_Level'].unique()"
   ]
  },
  {
   "cell_type": "code",
   "execution_count": 89,
   "id": "bc5789be",
   "metadata": {},
   "outputs": [],
   "source": [
    "from sklearn.preprocessing import LabelEncoder"
   ]
  },
  {
   "cell_type": "code",
   "execution_count": 90,
   "id": "370014cd",
   "metadata": {},
   "outputs": [],
   "source": [
    "edu_level = LabelEncoder()"
   ]
  },
  {
   "cell_type": "code",
   "execution_count": 91,
   "id": "34ec11c2",
   "metadata": {},
   "outputs": [],
   "source": [
    "df['Education_Level']  = edu_level.fit_transform(df['Education_Level'])"
   ]
  },
  {
   "cell_type": "code",
   "execution_count": 93,
   "id": "78652adf",
   "metadata": {
    "scrolled": true
   },
   "outputs": [
    {
     "data": {
      "text/plain": [
       "array([0, 2, 1, 3])"
      ]
     },
     "execution_count": 93,
     "metadata": {},
     "output_type": "execute_result"
    }
   ],
   "source": [
    "df['Education_Level'].unique()"
   ]
  },
  {
   "cell_type": "code",
   "execution_count": 94,
   "id": "9c2bd652",
   "metadata": {},
   "outputs": [],
   "source": [
    "countries_le = LabelEncoder()\n",
    "\n",
    "df['Country'] = countries_le.fit_transform(df['Country'])"
   ]
  },
  {
   "cell_type": "code",
   "execution_count": 95,
   "id": "51c8e228",
   "metadata": {},
   "outputs": [
    {
     "data": {
      "text/plain": [
       "array([13, 12, 10,  7,  4,  2,  6,  1,  3,  5, 11,  8,  0,  9])"
      ]
     },
     "execution_count": 95,
     "metadata": {},
     "output_type": "execute_result"
    }
   ],
   "source": [
    "df['Country'].unique()"
   ]
  },
  {
   "cell_type": "markdown",
   "id": "9c77b505",
   "metadata": {},
   "source": [
    "#MAKING MODEL"
   ]
  },
  {
   "cell_type": "code",
   "execution_count": 96,
   "id": "668704e4",
   "metadata": {},
   "outputs": [],
   "source": [
    "X = df.drop(\"Salary\",axis=1)\n",
    "y = df['Salary']"
   ]
  },
  {
   "cell_type": "code",
   "execution_count": 102,
   "id": "ab20fc51",
   "metadata": {},
   "outputs": [],
   "source": [
    "from sklearn.model_selection import train_test_split"
   ]
  },
  {
   "cell_type": "code",
   "execution_count": 103,
   "id": "c974989e",
   "metadata": {},
   "outputs": [],
   "source": [
    "X_train, X_test, y_train, y_test = train_test_split(X, y, test_size=0.2)"
   ]
  },
  {
   "cell_type": "code",
   "execution_count": 104,
   "id": "71f34eee",
   "metadata": {},
   "outputs": [],
   "source": [
    "from sklearn.linear_model import LinearRegression"
   ]
  },
  {
   "cell_type": "code",
   "execution_count": 105,
   "id": "aaf3a9d0",
   "metadata": {},
   "outputs": [
    {
     "data": {
      "text/plain": [
       "LinearRegression()"
      ]
     },
     "execution_count": 105,
     "metadata": {},
     "output_type": "execute_result"
    }
   ],
   "source": [
    "reg_model = LinearRegression()\n",
    "reg_model.fit(X_train,y_train)"
   ]
  },
  {
   "cell_type": "code",
   "execution_count": 107,
   "id": "634c0433",
   "metadata": {},
   "outputs": [],
   "source": [
    "y_pred = reg_model.predict(X_test)"
   ]
  },
  {
   "cell_type": "code",
   "execution_count": 108,
   "id": "c42c4b7f",
   "metadata": {},
   "outputs": [],
   "source": [
    "from sklearn.metrics import mean_absolute_error,mean_squared_error"
   ]
  },
  {
   "cell_type": "code",
   "execution_count": 109,
   "id": "e9fa5b3c",
   "metadata": {},
   "outputs": [],
   "source": [
    "error1 = mean_absolute_error(y_test,y_pred)\n",
    "error2 = np.sqrt(mean_squared_error(y_test,y_pred))"
   ]
  },
  {
   "cell_type": "code",
   "execution_count": 110,
   "id": "1320edd0",
   "metadata": {
    "scrolled": true
   },
   "outputs": [
    {
     "name": "stdout",
     "output_type": "stream",
     "text": [
      "30054.06797109598 38530.67398101534\n"
     ]
    }
   ],
   "source": [
    "print(error1,error2)"
   ]
  },
  {
   "cell_type": "code",
   "execution_count": 111,
   "id": "ae8f5a5c",
   "metadata": {},
   "outputs": [],
   "source": [
    "from sklearn.tree import DecisionTreeRegressor"
   ]
  },
  {
   "cell_type": "code",
   "execution_count": 112,
   "id": "57d7ec69",
   "metadata": {},
   "outputs": [
    {
     "data": {
      "text/plain": [
       "DecisionTreeRegressor(random_state=0)"
      ]
     },
     "execution_count": 112,
     "metadata": {},
     "output_type": "execute_result"
    }
   ],
   "source": [
    "tree_model = DecisionTreeRegressor(random_state = 0)\n",
    "tree_model.fit(X_train,y_train)"
   ]
  },
  {
   "cell_type": "code",
   "execution_count": 113,
   "id": "d8882972",
   "metadata": {},
   "outputs": [],
   "source": [
    "y_pred = tree_model.predict(X_test)"
   ]
  },
  {
   "cell_type": "code",
   "execution_count": 114,
   "id": "fb39e045",
   "metadata": {},
   "outputs": [],
   "source": [
    "error1 = mean_absolute_error(y_test,y_pred)\n",
    "error2 = np.sqrt(mean_squared_error(y_test,y_pred))"
   ]
  },
  {
   "cell_type": "code",
   "execution_count": 115,
   "id": "48ce4263",
   "metadata": {
    "scrolled": true
   },
   "outputs": [
    {
     "name": "stdout",
     "output_type": "stream",
     "text": [
      "22064.512358943688 32140.777586789416\n"
     ]
    }
   ],
   "source": [
    "print(error1,error2)"
   ]
  },
  {
   "cell_type": "code",
   "execution_count": 116,
   "id": "8eaad4de",
   "metadata": {},
   "outputs": [],
   "source": [
    "from sklearn.ensemble import RandomForestRegressor"
   ]
  },
  {
   "cell_type": "code",
   "execution_count": 117,
   "id": "9f37db81",
   "metadata": {},
   "outputs": [
    {
     "data": {
      "text/plain": [
       "RandomForestRegressor(random_state=0)"
      ]
     },
     "execution_count": 117,
     "metadata": {},
     "output_type": "execute_result"
    }
   ],
   "source": [
    "forest_model = RandomForestRegressor(random_state = 0)\n",
    "forest_model.fit(X_train,y_train)"
   ]
  },
  {
   "cell_type": "code",
   "execution_count": 118,
   "id": "3c2b0044",
   "metadata": {},
   "outputs": [],
   "source": [
    "y_pred = forest_model.predict(X_test)"
   ]
  },
  {
   "cell_type": "code",
   "execution_count": 119,
   "id": "600cb9fe",
   "metadata": {},
   "outputs": [],
   "source": [
    "error1 = mean_absolute_error(y_test,y_pred)\n",
    "error2 = np.sqrt(mean_squared_error(y_test,y_pred))"
   ]
  },
  {
   "cell_type": "code",
   "execution_count": 121,
   "id": "5c7c37d8",
   "metadata": {},
   "outputs": [
    {
     "name": "stdout",
     "output_type": "stream",
     "text": [
      "21848.889987177543 31764.697100561007\n"
     ]
    }
   ],
   "source": [
    "print(error1,error2)"
   ]
  },
  {
   "cell_type": "code",
   "execution_count": 122,
   "id": "52a6247e",
   "metadata": {},
   "outputs": [],
   "source": [
    "from sklearn.model_selection import GridSearchCV"
   ]
  },
  {
   "cell_type": "code",
   "execution_count": 132,
   "id": "3fe64f14",
   "metadata": {},
   "outputs": [],
   "source": [
    "max_depth = [None,2,4,6,8,10,12]\n",
    "param_grid = {'max_depth':max_depth}"
   ]
  },
  {
   "cell_type": "code",
   "execution_count": 133,
   "id": "8f841318",
   "metadata": {},
   "outputs": [],
   "source": [
    "regressor = RandomForestRegressor(random_state = 0)"
   ]
  },
  {
   "cell_type": "code",
   "execution_count": 134,
   "id": "693d38a6",
   "metadata": {},
   "outputs": [],
   "source": [
    "gs = GridSearchCV(regressor,param_grid,scoring = 'neg_mean_squared_error')"
   ]
  },
  {
   "cell_type": "code",
   "execution_count": 135,
   "id": "dad81c04",
   "metadata": {},
   "outputs": [
    {
     "data": {
      "text/plain": [
       "GridSearchCV(estimator=RandomForestRegressor(random_state=0),\n",
       "             param_grid={'max_depth': [None, 2, 4, 6, 8, 10, 12]},\n",
       "             scoring='neg_mean_squared_error')"
      ]
     },
     "execution_count": 135,
     "metadata": {},
     "output_type": "execute_result"
    }
   ],
   "source": [
    "gs.fit(X_train,y_train)"
   ]
  },
  {
   "cell_type": "code",
   "execution_count": 136,
   "id": "7b417149",
   "metadata": {},
   "outputs": [],
   "source": [
    "regressor = gs.best_estimator_"
   ]
  },
  {
   "cell_type": "code",
   "execution_count": 137,
   "id": "3ccac47f",
   "metadata": {},
   "outputs": [
    {
     "name": "stdout",
     "output_type": "stream",
     "text": [
      "$30,946.95\n"
     ]
    }
   ],
   "source": [
    "regressor.fit(X_train, y_train)\n",
    "y_pred = regressor.predict(X_test)\n",
    "error = np.sqrt(mean_squared_error(y_test, y_pred))\n",
    "print(\"${:,.02f}\".format(error))"
   ]
  },
  {
   "cell_type": "code",
   "execution_count": 138,
   "id": "8841f604",
   "metadata": {
    "scrolled": true
   },
   "outputs": [
    {
     "data": {
      "text/html": [
       "<div>\n",
       "<style scoped>\n",
       "    .dataframe tbody tr th:only-of-type {\n",
       "        vertical-align: middle;\n",
       "    }\n",
       "\n",
       "    .dataframe tbody tr th {\n",
       "        vertical-align: top;\n",
       "    }\n",
       "\n",
       "    .dataframe thead th {\n",
       "        text-align: right;\n",
       "    }\n",
       "</style>\n",
       "<table border=\"1\" class=\"dataframe\">\n",
       "  <thead>\n",
       "    <tr style=\"text-align: right;\">\n",
       "      <th></th>\n",
       "      <th>Country</th>\n",
       "      <th>Experience</th>\n",
       "      <th>Education_Level</th>\n",
       "    </tr>\n",
       "  </thead>\n",
       "  <tbody>\n",
       "    <tr>\n",
       "      <th>7</th>\n",
       "      <td>13</td>\n",
       "      <td>13.0</td>\n",
       "      <td>0</td>\n",
       "    </tr>\n",
       "    <tr>\n",
       "      <th>9</th>\n",
       "      <td>12</td>\n",
       "      <td>4.0</td>\n",
       "      <td>2</td>\n",
       "    </tr>\n",
       "    <tr>\n",
       "      <th>10</th>\n",
       "      <td>12</td>\n",
       "      <td>2.0</td>\n",
       "      <td>0</td>\n",
       "    </tr>\n",
       "    <tr>\n",
       "      <th>11</th>\n",
       "      <td>10</td>\n",
       "      <td>7.0</td>\n",
       "      <td>1</td>\n",
       "    </tr>\n",
       "    <tr>\n",
       "      <th>12</th>\n",
       "      <td>7</td>\n",
       "      <td>20.0</td>\n",
       "      <td>1</td>\n",
       "    </tr>\n",
       "    <tr>\n",
       "      <th>...</th>\n",
       "      <td>...</td>\n",
       "      <td>...</td>\n",
       "      <td>...</td>\n",
       "    </tr>\n",
       "    <tr>\n",
       "      <th>64113</th>\n",
       "      <td>13</td>\n",
       "      <td>15.0</td>\n",
       "      <td>1</td>\n",
       "    </tr>\n",
       "    <tr>\n",
       "      <th>64116</th>\n",
       "      <td>13</td>\n",
       "      <td>6.0</td>\n",
       "      <td>0</td>\n",
       "    </tr>\n",
       "    <tr>\n",
       "      <th>64122</th>\n",
       "      <td>13</td>\n",
       "      <td>4.0</td>\n",
       "      <td>1</td>\n",
       "    </tr>\n",
       "    <tr>\n",
       "      <th>64127</th>\n",
       "      <td>13</td>\n",
       "      <td>12.0</td>\n",
       "      <td>3</td>\n",
       "    </tr>\n",
       "    <tr>\n",
       "      <th>64129</th>\n",
       "      <td>13</td>\n",
       "      <td>4.0</td>\n",
       "      <td>2</td>\n",
       "    </tr>\n",
       "  </tbody>\n",
       "</table>\n",
       "<p>18491 rows × 3 columns</p>\n",
       "</div>"
      ],
      "text/plain": [
       "       Country  Experience  Education_Level\n",
       "7           13        13.0                0\n",
       "9           12         4.0                2\n",
       "10          12         2.0                0\n",
       "11          10         7.0                1\n",
       "12           7        20.0                1\n",
       "...        ...         ...              ...\n",
       "64113       13        15.0                1\n",
       "64116       13         6.0                0\n",
       "64122       13         4.0                1\n",
       "64127       13        12.0                3\n",
       "64129       13         4.0                2\n",
       "\n",
       "[18491 rows x 3 columns]"
      ]
     },
     "execution_count": 138,
     "metadata": {},
     "output_type": "execute_result"
    }
   ],
   "source": [
    "X"
   ]
  },
  {
   "cell_type": "code",
   "execution_count": 139,
   "id": "0a17b27a",
   "metadata": {},
   "outputs": [],
   "source": [
    "ip = np.array([['United States','Master’s degree',15]])"
   ]
  },
  {
   "cell_type": "code",
   "execution_count": 140,
   "id": "5e35ce73",
   "metadata": {},
   "outputs": [
    {
     "data": {
      "text/plain": [
       "array([['United States', 'Master’s degree', '15']], dtype='<U15')"
      ]
     },
     "execution_count": 140,
     "metadata": {},
     "output_type": "execute_result"
    }
   ],
   "source": [
    "ip"
   ]
  },
  {
   "cell_type": "code",
   "execution_count": 142,
   "id": "182a73ff",
   "metadata": {},
   "outputs": [],
   "source": [
    "ip[:,0] = countries_le.transform(ip[:,0])\n",
    "ip[:,1] = edu_level.transform(ip[:,1])\n",
    "ip = ip.astype(float)\n"
   ]
  },
  {
   "cell_type": "code",
   "execution_count": 144,
   "id": "137be698",
   "metadata": {},
   "outputs": [],
   "source": [
    "prediction = regressor.predict(ip)"
   ]
  },
  {
   "cell_type": "code",
   "execution_count": 145,
   "id": "78a4b84f",
   "metadata": {
    "scrolled": true
   },
   "outputs": [
    {
     "data": {
      "text/plain": [
       "array([108640.51967989])"
      ]
     },
     "execution_count": 145,
     "metadata": {},
     "output_type": "execute_result"
    }
   ],
   "source": [
    "prediction"
   ]
  },
  {
   "cell_type": "code",
   "execution_count": 146,
   "id": "8b5590f3",
   "metadata": {},
   "outputs": [],
   "source": [
    "import pickle"
   ]
  },
  {
   "cell_type": "code",
   "execution_count": 148,
   "id": "63163f11",
   "metadata": {},
   "outputs": [],
   "source": [
    "data = {'model':regressor,'le_country':countries_le,'le_education':edu_level}\n",
    "with open('saved_step.pkl','wb') as file:\n",
    "    pickle.dump(data,file)"
   ]
  },
  {
   "cell_type": "code",
   "execution_count": 149,
   "id": "76776188",
   "metadata": {},
   "outputs": [],
   "source": [
    "with open('saved_step.pkl','rb') as file:\n",
    "    data = pickle.load(file)"
   ]
  },
  {
   "cell_type": "code",
   "execution_count": 150,
   "id": "89f7f397",
   "metadata": {},
   "outputs": [],
   "source": [
    "loaded_regressor = data['model']\n",
    "le_country = data['le_country']\n",
    "le_edu  = data['le_education']"
   ]
  },
  {
   "cell_type": "code",
   "execution_count": 151,
   "id": "a724b405",
   "metadata": {},
   "outputs": [],
   "source": [
    "pred = loaded_regressor.predict(ip)"
   ]
  },
  {
   "cell_type": "code",
   "execution_count": 152,
   "id": "9b246325",
   "metadata": {},
   "outputs": [
    {
     "data": {
      "text/plain": [
       "array([108640.51967989])"
      ]
     },
     "execution_count": 152,
     "metadata": {},
     "output_type": "execute_result"
    }
   ],
   "source": [
    "pred"
   ]
  },
  {
   "cell_type": "code",
   "execution_count": 154,
   "id": "99091c46",
   "metadata": {},
   "outputs": [
    {
     "data": {
      "text/plain": [
       "array([13, 12, 10,  7,  4,  2,  6,  1,  3,  5, 11,  8,  0,  9])"
      ]
     },
     "execution_count": 154,
     "metadata": {},
     "output_type": "execute_result"
    }
   ],
   "source": [
    "df['Country'].unique()"
   ]
  }
 ],
 "metadata": {
  "kernelspec": {
   "display_name": "Python 3",
   "language": "python",
   "name": "python3"
  },
  "language_info": {
   "codemirror_mode": {
    "name": "ipython",
    "version": 3
   },
   "file_extension": ".py",
   "mimetype": "text/x-python",
   "name": "python",
   "nbconvert_exporter": "python",
   "pygments_lexer": "ipython3",
   "version": "3.8.10"
  }
 },
 "nbformat": 4,
 "nbformat_minor": 5
}
